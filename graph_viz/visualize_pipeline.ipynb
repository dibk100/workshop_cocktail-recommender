{
 "cells": [
  {
   "cell_type": "markdown",
   "id": "ef37100c",
   "metadata": {},
   "source": [
    "# Visualize your graph   "
   ]
  },
  {
   "cell_type": "code",
   "execution_count": 29,
   "id": "180e6111",
   "metadata": {},
   "outputs": [],
   "source": [
    "import sys\n",
    "import os\n",
    "sys.path.append(os.path.abspath(\"..\"))\n",
    "\n",
    "from langgraph.graph import StateGraph, START, END\n",
    "from core.schemas import PipelineState\n",
    "from nodes.task_classifier import *\n",
    "from nodes.graph_nodes import graph_query_node\n",
    "from nodes.llm_response import llm_response_node\n",
    "from nodes.response_node import response_node\n",
    "from pipeline import build_pipeline_graph\n",
    "from core.schemas import PipelineState\n",
    "\n",
    "from IPython.display import display, Markdown\n",
    "\n",
    "app = build_pipeline_graph().compile()"
   ]
  },
  {
   "cell_type": "code",
   "execution_count": 31,
   "id": "e64184fc",
   "metadata": {},
   "outputs": [
    {
     "name": "stdout",
     "output_type": "stream",
     "text": [
      "Help on class QwenModel in module core.llm_model:\n",
      "\n",
      "class QwenModel(builtins.object)\n",
      " |  Methods defined here:\n",
      " |  \n",
      " |  __init__(self)\n",
      " |      Initialize self.  See help(type(self)) for accurate signature.\n",
      " |  \n",
      " |  generate(self, prompt: str, max_length: int = None) -> str\n",
      " |  \n",
      " |  ----------------------------------------------------------------------\n",
      " |  Data descriptors defined here:\n",
      " |  \n",
      " |  __dict__\n",
      " |      dictionary for instance variables\n",
      " |  \n",
      " |  __weakref__\n",
      " |      list of weak references to the object\n",
      "\n"
     ]
    }
   ],
   "source": [
    "from core.llm_model import QwenModel\n",
    "\n",
    "help(QwenModel)"
   ]
  },
  {
   "cell_type": "code",
   "execution_count": 30,
   "id": "5ae1507a",
   "metadata": {},
   "outputs": [
    {
     "data": {
      "text/markdown": [
       "```mermaid\n",
       "---\n",
       "config:\n",
       "  flowchart:\n",
       "    curve: linear\n",
       "---\n",
       "graph TD;\n",
       "\t__start__([<p>__start__</p>]):::first\n",
       "\tAgent_TaskClassification(Agent_TaskClassification)\n",
       "\tRetriever(Retriever)\n",
       "\tChecking_Hop(Checking_Hop)\n",
       "\tGenerator(Generator)\n",
       "\t__end__([<p>__end__</p>]):::last\n",
       "\tAgent_TaskClassification --> Retriever;\n",
       "\tChecking_Hop -. &nbsp;score >= 80&nbsp; .-> Generator;\n",
       "\tChecking_Hop -. &nbsp;score < 80&nbsp; .-> Retriever;\n",
       "\tRetriever --> Checking_Hop;\n",
       "\t__start__ --> Agent_TaskClassification;\n",
       "\tGenerator --> __end__;\n",
       "\tclassDef default fill:#f2f0ff,line-height:1.2\n",
       "\tclassDef first fill-opacity:0\n",
       "\tclassDef last fill:#bfb6fc\n",
       "\n",
       "```"
      ],
      "text/plain": [
       "<IPython.core.display.Markdown object>"
      ]
     },
     "metadata": {},
     "output_type": "display_data"
    }
   ],
   "source": [
    "mermaid_code = app.get_graph().draw_mermaid()\n",
    "display(Markdown(f\"```mermaid\\n{mermaid_code}\\n```\"))"
   ]
  }
 ],
 "metadata": {
  "kernelspec": {
   "display_name": "cikm_311",
   "language": "python",
   "name": "python3"
  },
  "language_info": {
   "codemirror_mode": {
    "name": "ipython",
    "version": 3
   },
   "file_extension": ".py",
   "mimetype": "text/x-python",
   "name": "python",
   "nbconvert_exporter": "python",
   "pygments_lexer": "ipython3",
   "version": "3.11.13"
  }
 },
 "nbformat": 4,
 "nbformat_minor": 5
}
